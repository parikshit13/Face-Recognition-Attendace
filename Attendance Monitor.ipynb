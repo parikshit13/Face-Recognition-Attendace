{
 "cells": [
  {
   "cell_type": "code",
   "execution_count": 1,
   "metadata": {},
   "outputs": [
    {
     "name": "stdout",
     "output_type": "stream",
     "text": [
      "Requirement already satisfied: opencv-python in c:\\users\\parik\\anaconda3\\lib\\site-packages (4.8.0.76)\n",
      "Requirement already satisfied: numpy>=1.21.2 in c:\\users\\parik\\anaconda3\\lib\\site-packages (from opencv-python) (1.24.3)\n",
      "Note: you may need to restart the kernel to use updated packages.\n"
     ]
    }
   ],
   "source": [
    "pip install opencv-python"
   ]
  },
  {
   "cell_type": "code",
   "execution_count": 2,
   "metadata": {},
   "outputs": [
    {
     "name": "stdout",
     "output_type": "stream",
     "text": [
      "Requirement already satisfied: face-recognition in c:\\users\\parik\\anaconda3\\lib\\site-packages (1.3.0)\n",
      "Requirement already satisfied: face-recognition-models>=0.3.0 in c:\\users\\parik\\anaconda3\\lib\\site-packages (from face-recognition) (0.3.0)\n",
      "Requirement already satisfied: Click>=6.0 in c:\\users\\parik\\anaconda3\\lib\\site-packages (from face-recognition) (8.0.4)\n",
      "Requirement already satisfied: dlib>=19.7 in c:\\users\\parik\\anaconda3\\lib\\site-packages (from face-recognition) (19.24.2)\n",
      "Requirement already satisfied: numpy in c:\\users\\parik\\anaconda3\\lib\\site-packages (from face-recognition) (1.24.3)\n",
      "Requirement already satisfied: Pillow in c:\\users\\parik\\anaconda3\\lib\\site-packages (from face-recognition) (9.4.0)\n",
      "Requirement already satisfied: colorama in c:\\users\\parik\\anaconda3\\lib\\site-packages (from Click>=6.0->face-recognition) (0.4.6)\n",
      "Note: you may need to restart the kernel to use updated packages.\n"
     ]
    }
   ],
   "source": [
    "pip install face-recognition"
   ]
  },
  {
   "cell_type": "code",
   "execution_count": 3,
   "metadata": {},
   "outputs": [
    {
     "name": "stdout",
     "output_type": "stream",
     "text": [
      "Requirement already satisfied: keyboard in c:\\users\\parik\\anaconda3\\lib\\site-packages (0.13.5)\n",
      "Note: you may need to restart the kernel to use updated packages.\n"
     ]
    }
   ],
   "source": [
    "pip install keyboard"
   ]
  },
  {
   "cell_type": "code",
   "execution_count": 4,
   "metadata": {},
   "outputs": [],
   "source": [
    "# IMPORT THE NECESSARY FILES\n",
    "\n",
    "import cv2\n",
    "import numpy as np\n",
    "import matplotlib.pyplot as plt\n",
    "import face_recognition\n",
    "import os\n",
    "import keyboard\n",
    "from datetime import datetime\n",
    "%matplotlib inline"
   ]
  },
  {
   "cell_type": "code",
   "execution_count": 5,
   "metadata": {},
   "outputs": [],
   "source": [
    "# SET UP THE IMAGES' DATABASE AND THEIR RESPECTIVE LABELS' DATABASE\n",
    "\n",
    "path = 'PDB'\n",
    "pictureDB = os.listdir(path)\n",
    "imageDB = []\n",
    "namesDB = []\n",
    "#print(pictureDB)\n",
    "for i in pictureDB:\n",
    "    #print(f'{path}/'+i)\n",
    "    currImg = cv2.imread(f'{path}/'+i)\n",
    "    imageDB.append(currImg)\n",
    "    namesDB.append(os.path.splitext(i)[0])"
   ]
  },
  {
   "cell_type": "code",
   "execution_count": 6,
   "metadata": {},
   "outputs": [
    {
     "name": "stdout",
     "output_type": "stream",
     "text": [
      "Encoding Complete\n"
     ]
    }
   ],
   "source": [
    "# EXTRACT THE FACE ENCODINGS FOR ALL THE FACES IN THE IMAGE DATABASE\n",
    "\n",
    "def encodings(imageDB):\n",
    "    encodedDB = []\n",
    "    for image in imageDB:\n",
    "        image = cv2.cvtColor(image,cv2.COLOR_BGR2RGB)\n",
    "        imageEncoding = face_recognition.face_encodings(image)[0]\n",
    "        encodedDB.append(imageEncoding)\n",
    "    return encodedDB\n",
    "\n",
    "knowEncodings = encodings(imageDB)\n",
    "print('Encoding Complete')"
   ]
  },
  {
   "cell_type": "code",
   "execution_count": 7,
   "metadata": {},
   "outputs": [],
   "source": [
    "def setup():\n",
    "    with open('Attendance.csv','w+') as f:\n",
    "        f.writelines('Names,Time')\n",
    "    f.close()\n",
    "    \n",
    "def attendance(name):\n",
    "    #setup()\n",
    "    with open('Attendance.csv','r+') as f:\n",
    "        myDataList = f.readlines()\n",
    "        nameList = []\n",
    "        #if 'Name,Time' not in f:\n",
    "        #    f.writelines('Name,Time')\n",
    "        for line in myDataList:\n",
    "            entry = line.split(',')\n",
    "            nameList.append(entry[0])\n",
    "        if name not in nameList:\n",
    "            now = datetime.now()\n",
    "            dtString = now.strftime('%H:%M:%S')\n",
    "            f.writelines(f'\\n{name},{dtString}')\n",
    "    f.close()"
   ]
  },
  {
   "cell_type": "code",
   "execution_count": 8,
   "metadata": {},
   "outputs": [
    {
     "name": "stdout",
     "output_type": "stream",
     "text": [
      "Quitting application\n"
     ]
    }
   ],
   "source": [
    "# VIDEO\n",
    "\n",
    "setup()\n",
    "\n",
    "webCam = cv2.VideoCapture(0)\n",
    "\n",
    "while True:\n",
    "    succesfulFrameRead,frame=webCam.read()\n",
    "    \n",
    "    if not succesfulFrameRead:\n",
    "        print(\"webcam not found\")\n",
    "        break\n",
    "    #frame = cv2.cvtColor(frame,cv2.COLOR_BGR2RGB)\n",
    "    #frameG=cv2.cvtColor(frame,cv2.COLOR_BGR2GRAY)\n",
    "    frameS = cv2.resize(frame,(0,0),None,0.25,0.25)\n",
    "    facesCurrFrame = face_recognition.face_locations(frameS)\n",
    "    encodesCurrFrame = face_recognition.face_encodings(frameS,facesCurrFrame)\n",
    "    \n",
    "    for encodeFace,faceLoc in zip(encodesCurrFrame,facesCurrFrame):\n",
    "        matches = face_recognition.compare_faces(knowEncodings,encodeFace)\n",
    "        faceDis = face_recognition.face_distance(knowEncodings,encodeFace)\n",
    "        #print(faceDis)\n",
    "        #print(matches)\n",
    "        matchIndex = np.argmin(faceDis)   \n",
    "    \n",
    "        if matches[matchIndex]:\n",
    "            name = namesDB[matchIndex]\n",
    "            #print(name)\n",
    "            y1,x2,y2,x1 = faceLoc\n",
    "            y1,x2,y2,x1 = y1*4,x2*4,y2*4,x1*4\n",
    "            cv2.rectangle(frame,(x1,y1),(x2,y2),(0,255,0),2)\n",
    "            cv2.rectangle(frame,(x1,y2+35),(x2,y2),(255,255,255),cv2.FILLED)\n",
    "            cv2.putText(frame,name,(x1+15,y2+25),cv2.FONT_HERSHEY_SIMPLEX,1,(0,0,0),2)\n",
    "            attendance(name)\n",
    "    \n",
    "    cv2.imshow('Face Detector',frame)\n",
    "    cv2.waitKey(1)\n",
    "    if keyboard.is_pressed('q'):\n",
    "        print(\"Quitting application\")\n",
    "        break\n",
    "        \n",
    "webCam.release()\n",
    "cv2.destroyAllWindows()"
   ]
  },
  {
   "cell_type": "code",
   "execution_count": null,
   "metadata": {},
   "outputs": [],
   "source": []
  }
 ],
 "metadata": {
  "kernelspec": {
   "display_name": "Python 3 (ipykernel)",
   "language": "python",
   "name": "python3"
  },
  "language_info": {
   "codemirror_mode": {
    "name": "ipython",
    "version": 3
   },
   "file_extension": ".py",
   "mimetype": "text/x-python",
   "name": "python",
   "nbconvert_exporter": "python",
   "pygments_lexer": "ipython3",
   "version": "3.11.4"
  }
 },
 "nbformat": 4,
 "nbformat_minor": 2
}
